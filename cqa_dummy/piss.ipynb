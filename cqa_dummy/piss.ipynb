{
 "cells": [
  {
   "cell_type": "code",
   "execution_count": 4,
   "metadata": {},
   "outputs": [
    {
     "name": "stdout",
     "output_type": "stream",
     "text": [
      "   ticker   z_score  expected_return position       price  shares  \\\n",
      "0     HII -4.155855        -0.012767    short  190.349900    -0.0   \n",
      "1     TFX -4.146759        -0.008456     long  200.810000     0.0   \n",
      "2    APTV -4.118588        -0.010617    short   54.840100    -0.0   \n",
      "3    MPWR -3.732474        -0.008290     long  745.254300     0.0   \n",
      "4      EL -3.580365        -0.014694    short   69.342100    -0.0   \n",
      "..    ...       ...              ...      ...         ...     ...   \n",
      "77    ETR  3.807241         0.007672     long  155.305000     0.0   \n",
      "78     IP  3.885273         0.005957    short   55.380000    -0.0   \n",
      "79    AME  3.888878         0.002939    short  182.886784    -0.0   \n",
      "80     MO  4.087865         0.003187    short   54.690000    -0.0   \n",
      "81   PAYC  4.142370         0.012317     long  214.400000     0.0   \n",
      "\n",
      "    position_value  weight  \n",
      "0             -0.0    -0.0  \n",
      "1              0.0     0.0  \n",
      "2             -0.0    -0.0  \n",
      "3              0.0     0.0  \n",
      "4             -0.0    -0.0  \n",
      "..             ...     ...  \n",
      "77             0.0     0.0  \n",
      "78            -0.0    -0.0  \n",
      "79            -0.0    -0.0  \n",
      "80            -0.0    -0.0  \n",
      "81             0.0     0.0  \n",
      "\n",
      "[82 rows x 8 columns]\n"
     ]
    }
   ],
   "source": [
    "# view_portfolio.py\n",
    "\n",
    "import pandas as pd\n",
    "\n",
    "# Read the CSV file\n",
    "portfolio = pd.read_csv('mean_reversion_portfolio.csv')\n",
    "\n",
    "# Display the DataFrame\n",
    "print(portfolio)"
   ]
  },
  {
   "cell_type": "code",
   "execution_count": null,
   "metadata": {},
   "outputs": [],
   "source": []
  }
 ],
 "metadata": {
  "kernelspec": {
   "display_name": "base",
   "language": "python",
   "name": "python3"
  },
  "language_info": {
   "codemirror_mode": {
    "name": "ipython",
    "version": 3
   },
   "file_extension": ".py",
   "mimetype": "text/x-python",
   "name": "python",
   "nbconvert_exporter": "python",
   "pygments_lexer": "ipython3",
   "version": "3.11.7"
  }
 },
 "nbformat": 4,
 "nbformat_minor": 2
}
